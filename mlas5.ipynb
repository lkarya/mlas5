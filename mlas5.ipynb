{
 "cells": [
  {
   "cell_type": "code",
   "execution_count": null,
   "id": "b0821043",
   "metadata": {},
   "outputs": [],
   "source": [
    "# What are the key tasks that machine learning entails? What does data pre-processing imply?\n",
    "Data preprocessing is required tasks for cleaning the data and making it suitable for a machine learning model \n",
    "which also increases the accuracy and efficiency of a machine learning model.\n",
    "\n",
    "# Describe quantitative and qualitative data in depth. Make a distinction between the two.\n",
    "Quantitative data is anything that can be counted or measured; it refers to numerical data. Qualitative data is descriptive, \n",
    "referring to things that can be observed but not measured.\n",
    "\n",
    "# What are the various causes of machine learning data issues? What are the ramifications?\n",
    "Poor Quality of Data. Data plays a significant role in the machine learning process. ...\n",
    "Underfitting of Training Data. ...\n",
    "Overfitting of Training Data. ...\n",
    "Machine Learning is a Complex Process. ...\n",
    "Lack of Training Data. ...\n",
    "Slow Implementation. ...\n",
    "Imperfections in the Algorithm When Data Grows.\n",
    "\n",
    "# Describe the various methods for dealing with missing data values in depth.\n",
    "Missing values can be handled by deleting the rows or columns having null values. \n",
    "If columns have more than half of the rows as null then the entire column can be dropped. \n",
    "The rows which are having one or more columns values as null can also be dropped.\n",
    "\n"
   ]
  }
 ],
 "metadata": {
  "kernelspec": {
   "display_name": "Python 3 (ipykernel)",
   "language": "python",
   "name": "python3"
  },
  "language_info": {
   "codemirror_mode": {
    "name": "ipython",
    "version": 3
   },
   "file_extension": ".py",
   "mimetype": "text/x-python",
   "name": "python",
   "nbconvert_exporter": "python",
   "pygments_lexer": "ipython3",
   "version": "3.9.7"
  }
 },
 "nbformat": 4,
 "nbformat_minor": 5
}
